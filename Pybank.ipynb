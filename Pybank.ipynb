{
 "cells": [
  {
   "cell_type": "code",
   "execution_count": 1,
   "id": "798da1b7",
   "metadata": {},
   "outputs": [],
   "source": [
    "import pandas as pd\n",
    "import csv\n",
    "import os\n"
   ]
  },
  {
   "cell_type": "code",
   "execution_count": 2,
   "id": "fdd6c2aa",
   "metadata": {},
   "outputs": [],
   "source": [
    "total_months = [] \n",
    "total_profits = [] \n",
    "profit_changes= []\n",
    "monthly_changes=[] \n",
    "previous_value =0"
   ]
  },
  {
   "cell_type": "code",
   "execution_count": 4,
   "id": "930d1650",
   "metadata": {},
   "outputs": [
    {
     "data": {
      "text/html": [
       "<div>\n",
       "<style scoped>\n",
       "    .dataframe tbody tr th:only-of-type {\n",
       "        vertical-align: middle;\n",
       "    }\n",
       "\n",
       "    .dataframe tbody tr th {\n",
       "        vertical-align: top;\n",
       "    }\n",
       "\n",
       "    .dataframe thead th {\n",
       "        text-align: right;\n",
       "    }\n",
       "</style>\n",
       "<table border=\"1\" class=\"dataframe\">\n",
       "  <thead>\n",
       "    <tr style=\"text-align: right;\">\n",
       "      <th></th>\n",
       "      <th>Date</th>\n",
       "      <th>Profit/Losses</th>\n",
       "    </tr>\n",
       "  </thead>\n",
       "  <tbody>\n",
       "    <tr>\n",
       "      <th>0</th>\n",
       "      <td>Jan-2010</td>\n",
       "      <td>867884</td>\n",
       "    </tr>\n",
       "    <tr>\n",
       "      <th>1</th>\n",
       "      <td>Feb-2010</td>\n",
       "      <td>984655</td>\n",
       "    </tr>\n",
       "    <tr>\n",
       "      <th>2</th>\n",
       "      <td>Mar-2010</td>\n",
       "      <td>322013</td>\n",
       "    </tr>\n",
       "    <tr>\n",
       "      <th>3</th>\n",
       "      <td>Apr-2010</td>\n",
       "      <td>-69417</td>\n",
       "    </tr>\n",
       "    <tr>\n",
       "      <th>4</th>\n",
       "      <td>May-2010</td>\n",
       "      <td>310503</td>\n",
       "    </tr>\n",
       "    <tr>\n",
       "      <th>...</th>\n",
       "      <td>...</td>\n",
       "      <td>...</td>\n",
       "    </tr>\n",
       "    <tr>\n",
       "      <th>81</th>\n",
       "      <td>Oct-2016</td>\n",
       "      <td>102685</td>\n",
       "    </tr>\n",
       "    <tr>\n",
       "      <th>82</th>\n",
       "      <td>Nov-2016</td>\n",
       "      <td>795914</td>\n",
       "    </tr>\n",
       "    <tr>\n",
       "      <th>83</th>\n",
       "      <td>Dec-2016</td>\n",
       "      <td>60988</td>\n",
       "    </tr>\n",
       "    <tr>\n",
       "      <th>84</th>\n",
       "      <td>Jan-2017</td>\n",
       "      <td>138230</td>\n",
       "    </tr>\n",
       "    <tr>\n",
       "      <th>85</th>\n",
       "      <td>Feb-2017</td>\n",
       "      <td>671099</td>\n",
       "    </tr>\n",
       "  </tbody>\n",
       "</table>\n",
       "<p>86 rows × 2 columns</p>\n",
       "</div>"
      ],
      "text/plain": [
       "        Date  Profit/Losses\n",
       "0   Jan-2010         867884\n",
       "1   Feb-2010         984655\n",
       "2   Mar-2010         322013\n",
       "3   Apr-2010         -69417\n",
       "4   May-2010         310503\n",
       "..       ...            ...\n",
       "81  Oct-2016         102685\n",
       "82  Nov-2016         795914\n",
       "83  Dec-2016          60988\n",
       "84  Jan-2017         138230\n",
       "85  Feb-2017         671099\n",
       "\n",
       "[86 rows x 2 columns]"
      ]
     },
     "execution_count": 4,
     "metadata": {},
     "output_type": "execute_result"
    }
   ],
   "source": [
    "df=pd.read_csv(\"budget_data.csv\")\n",
    "df"
   ]
  },
  {
   "cell_type": "markdown",
   "id": "36ecc34a",
   "metadata": {},
   "source": [
    "# Total Number of Months"
   ]
  },
  {
   "cell_type": "code",
   "execution_count": 6,
   "id": "f24662b9",
   "metadata": {},
   "outputs": [
    {
     "name": "stdout",
     "output_type": "stream",
     "text": [
      "86\n"
     ]
    }
   ],
   "source": [
    "with open(\"budget_data.csv\") as csvfile:\n",
    "    csvreader = csv.reader(csvfile, delimiter=',')\n",
    "    \n",
    "    csv_header = next(csvreader)\n",
    "    \n",
    "    for row in csvreader:\n",
    "        total_months.append(row[0])\n",
    "        total_profits.append(row[1])\n",
    "    print(len(total_months))"
   ]
  },
  {
   "cell_type": "markdown",
   "id": "abc22fac",
   "metadata": {},
   "source": [
    "# Net Total Amount"
   ]
  },
  {
   "cell_type": "code",
   "execution_count": 8,
   "id": "6d0c41a2",
   "metadata": {},
   "outputs": [
    {
     "name": "stdout",
     "output_type": "stream",
     "text": [
      "38382578\n"
     ]
    }
   ],
   "source": [
    "total_profits=[int(x) for x in total_profits] \n",
    "total_profits_sum=sum(total_profits) \n",
    "print (total_profits_sum) "
   ]
  },
  {
   "cell_type": "code",
   "execution_count": 9,
   "id": "f95bb43e",
   "metadata": {},
   "outputs": [],
   "source": [
    "Currency= \"${:,.2f}\".format(total_profits_sum)"
   ]
  },
  {
   "cell_type": "code",
   "execution_count": 10,
   "id": "40e64cfa",
   "metadata": {},
   "outputs": [
    {
     "name": "stdout",
     "output_type": "stream",
     "text": [
      "$38,382,578.00\n"
     ]
    }
   ],
   "source": [
    "print(Currency)"
   ]
  },
  {
   "cell_type": "markdown",
   "id": "aa64e8ba",
   "metadata": {},
   "source": [
    "# Average of The Change in P&L"
   ]
  },
  {
   "cell_type": "code",
   "execution_count": 12,
   "id": "02f6bde9",
   "metadata": {},
   "outputs": [
    {
     "name": "stdout",
     "output_type": "stream",
     "text": [
      "-2315.1176470588234\n"
     ]
    }
   ],
   "source": [
    "average_monthly_change_list = []\n",
    "previous_month_amount = 0\n",
    "for x in range(len(total_profits)):\n",
    "    if x == 0:\n",
    "        previous_month_amount = total_profits[x]\n",
    "    else:\n",
    "        monthly_changes = total_profits[x] - previous_month_amount\n",
    "        average_monthly_change_list.append(monthly_changes)\n",
    "        previous_month_amount = total_profits[x]\n",
    "\n",
    "length = len(average_monthly_change_list)\n",
    "total = sum(average_monthly_change_list)\n",
    "profit_loss_average = total / length\n",
    "print(profit_loss_average)"
   ]
  },
  {
   "cell_type": "code",
   "execution_count": 13,
   "id": "5bf763f2",
   "metadata": {},
   "outputs": [],
   "source": [
    "Currency= \"${:,.2f}\".format(profit_loss_average)"
   ]
  },
  {
   "cell_type": "code",
   "execution_count": 14,
   "id": "5cfacfec",
   "metadata": {},
   "outputs": [
    {
     "name": "stdout",
     "output_type": "stream",
     "text": [
      "$-2,315.12\n"
     ]
    }
   ],
   "source": [
    "print(Currency)\n"
   ]
  },
  {
   "cell_type": "markdown",
   "id": "7adb40fd",
   "metadata": {},
   "source": [
    "# Greatest Increase in Profits (Date & Amount)"
   ]
  },
  {
   "cell_type": "code",
   "execution_count": 15,
   "id": "223eadcb",
   "metadata": {},
   "outputs": [],
   "source": [
    "month_greatest_increase = ''\n",
    "amount_greatest_increase = 0\n",
    "month_greatest_decrease = ''\n",
    "amount_greatest_decrease = 0\n",
    "\n",
    "for x in range(len(average_monthly_change_list)):\n",
    "    if average_monthly_change_list[x] > amount_greatest_increase:\n",
    "        amount_greatest_increase = average_monthly_change_list[x]\n",
    "        month_greatest_increase = total_months[x+1]\n",
    "    elif average_monthly_change_list[x] < amount_greatest_decrease:\n",
    "        amount_greatest_decrease = average_monthly_change_list[x]\n",
    "        month_greatest_decrease = total_months[x+1]"
   ]
  },
  {
   "cell_type": "code",
   "execution_count": 16,
   "id": "20711231",
   "metadata": {},
   "outputs": [
    {
     "name": "stdout",
     "output_type": "stream",
     "text": [
      "1926159 Feb-2012\n"
     ]
    }
   ],
   "source": [
    "print(amount_greatest_increase,month_greatest_increase)"
   ]
  },
  {
   "cell_type": "code",
   "execution_count": 17,
   "id": "145ae793",
   "metadata": {},
   "outputs": [],
   "source": [
    "Currency= \"${:,.2f}\".format(amount_greatest_increase)"
   ]
  },
  {
   "cell_type": "code",
   "execution_count": 18,
   "id": "56e5eaea",
   "metadata": {},
   "outputs": [
    {
     "name": "stdout",
     "output_type": "stream",
     "text": [
      "$1,926,159.00 Feb-2012\n"
     ]
    }
   ],
   "source": [
    "print(Currency,month_greatest_increase)"
   ]
  },
  {
   "cell_type": "markdown",
   "id": "443bb69b",
   "metadata": {},
   "source": [
    "# Financial Analysis"
   ]
  },
  {
   "cell_type": "code",
   "execution_count": 19,
   "id": "ffb14008",
   "metadata": {},
   "outputs": [
    {
     "name": "stdout",
     "output_type": "stream",
     "text": [
      "Financial Analysis\n",
      "-------------------------------------------------------\n",
      "Total Months: 86\n",
      "Total: $38382578\n",
      "Average Change: $-2315.1176470588234\n",
      "Greatest Increase in Profits: Feb-2012 ($1926159)\n",
      "Greatest Decrease in Profits: Sep-2013 ($-2196167)\n"
     ]
    }
   ],
   "source": [
    "print(\"Financial Analysis\")\n",
    "print(\"-------------------------------------------------------\")\n",
    "print(f\"Total Months: {len(total_months)}\")\n",
    "print(f\"Total: ${str(total_profits_sum)}\")\n",
    "print(f\"Average Change: $\" + str(profit_loss_average))\n",
    "print(f\"Greatest Increase in Profits: {month_greatest_increase} (${amount_greatest_increase})\")\n",
    "print(f\"Greatest Decrease in Profits: {month_greatest_decrease} (${amount_greatest_decrease})\")"
   ]
  },
  {
   "cell_type": "code",
   "execution_count": null,
   "id": "95902439",
   "metadata": {},
   "outputs": [],
   "source": []
  },
  {
   "cell_type": "code",
   "execution_count": null,
   "id": "53c6731d",
   "metadata": {},
   "outputs": [],
   "source": []
  },
  {
   "cell_type": "code",
   "execution_count": null,
   "id": "02ea2df3",
   "metadata": {},
   "outputs": [],
   "source": []
  },
  {
   "cell_type": "code",
   "execution_count": null,
   "id": "5b5cb9e3",
   "metadata": {},
   "outputs": [],
   "source": []
  }
 ],
 "metadata": {
  "kernelspec": {
   "display_name": "Python 3 (ipykernel)",
   "language": "python",
   "name": "python3"
  },
  "language_info": {
   "codemirror_mode": {
    "name": "ipython",
    "version": 3
   },
   "file_extension": ".py",
   "mimetype": "text/x-python",
   "name": "python",
   "nbconvert_exporter": "python",
   "pygments_lexer": "ipython3",
   "version": "3.8.8"
  }
 },
 "nbformat": 4,
 "nbformat_minor": 5
}
